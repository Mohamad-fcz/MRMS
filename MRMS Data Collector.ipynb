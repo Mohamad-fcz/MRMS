{
 "cells": [
  {
   "cell_type": "code",
   "execution_count": 2,
   "metadata": {
    "ExecuteTime": {
     "end_time": "2023-03-19T04:43:59.811110Z",
     "start_time": "2023-03-19T04:43:59.791109Z"
    }
   },
   "outputs": [
    {
     "data": {
      "text/plain": "GridBox(children=(DatePicker(value=None, description='Pick start', step=1), DatePicker(value=None, description…",
      "application/vnd.jupyter.widget-view+json": {
       "version_major": 2,
       "version_minor": 0,
       "model_id": "9405c0fea6af4528970a9c35c0dda60e"
      }
     },
     "metadata": {},
     "output_type": "display_data"
    },
    {
     "data": {
      "text/plain": "Output()",
      "application/vnd.jupyter.widget-view+json": {
       "version_major": 2,
       "version_minor": 0,
       "model_id": "f869f4c108654022ba252efefc4cea8f"
      }
     },
     "metadata": {},
     "output_type": "display_data"
    }
   ],
   "source": [
    "import Functions\n",
    "Functions.gui_widgets()"
   ]
  },
  {
   "cell_type": "code",
   "execution_count": null,
   "metadata": {
    "collapsed": false,
    "jupyter": {
     "outputs_hidden": false
    }
   },
   "outputs": [],
   "source": []
  }
 ],
 "metadata": {
  "kernelspec": {
   "display_name": "Python 3 (ipykernel)",
   "language": "python",
   "name": "python3"
  },
  "language_info": {
   "codemirror_mode": {
    "name": "ipython",
    "version": 3
   },
   "file_extension": ".py",
   "mimetype": "text/x-python",
   "name": "python",
   "nbconvert_exporter": "python",
   "pygments_lexer": "ipython3",
   "version": "3.9.16"
  },
  "toc": {
   "base_numbering": 1,
   "nav_menu": {},
   "number_sections": true,
   "sideBar": true,
   "skip_h1_title": false,
   "title_cell": "Table of Contents",
   "title_sidebar": "Contents",
   "toc_cell": false,
   "toc_position": {},
   "toc_section_display": true,
   "toc_window_display": false
  },
  "varInspector": {
   "cols": {
    "lenName": 16,
    "lenType": 16,
    "lenVar": 40
   },
   "kernels_config": {
    "python": {
     "delete_cmd_postfix": "",
     "delete_cmd_prefix": "del ",
     "library": "var_list.py",
     "varRefreshCmd": "print(var_dic_list())"
    },
    "r": {
     "delete_cmd_postfix": ") ",
     "delete_cmd_prefix": "rm(",
     "library": "var_list.r",
     "varRefreshCmd": "cat(var_dic_list()) "
    }
   },
   "types_to_exclude": [
    "module",
    "function",
    "builtin_function_or_method",
    "instance",
    "_Feature"
   ],
   "window_display": false
  },
  "widgets": {
   "application/vnd.jupyter.widget-state+json": {
    "state": {
     "00ccd6dda46c4d1896a9c3469492c5dc": {
      "model_module": "@jupyter-widgets/controls",
      "model_module_version": "2.0.0",
      "model_name": "DatePickerModel",
      "state": {
       "description": "Pick start",
       "disabled": false,
       "layout": "IPY_MODEL_83bfa8cfa06d439ebcb65b0760d21197",
       "max": null,
       "min": null,
       "step": 1,
       "style": "IPY_MODEL_bc97e64546194dd0a479bccf0ed1567e"
      }
     },
     "01095837c4524b40bfa567b24d979867": {
      "model_module": "@jupyter-widgets/base",
      "model_module_version": "2.0.0",
      "model_name": "LayoutModel",
      "state": {
       "grid_template_columns": "repeat(2, 400px)"
      }
     },
     "0409835aacf244dcb4b052b1d76b3999": {
      "model_module": "@jupyter-widgets/controls",
      "model_module_version": "2.0.0",
      "model_name": "DescriptionStyleModel",
      "state": {
       "description_width": ""
      }
     },
     "066aba406cf8497ca899d9a328019b19": {
      "model_module": "@jupyter-widgets/output",
      "model_module_version": "1.0.0",
      "model_name": "OutputModel",
      "state": {
       "layout": "IPY_MODEL_93e0393be5244697b45c0c3ba891de59"
      }
     },
     "06d2fa704fd3424e81221bc8edea6757": {
      "model_module": "@jupyter-widgets/base",
      "model_module_version": "2.0.0",
      "model_name": "LayoutModel",
      "state": {
       "flex": "3 1 0%",
       "width": "auto"
      }
     },
     "0962ee09b70844c588f95e9baa07276b": {
      "model_module": "@jupyter-widgets/controls",
      "model_module_version": "2.0.0",
      "model_name": "DatePickerModel",
      "state": {
       "description": "Pick start",
       "disabled": false,
       "layout": "IPY_MODEL_10eb6c87ae3b4ff687ea5766f72c9bfc",
       "max": null,
       "min": null,
       "step": 1,
       "style": "IPY_MODEL_6c611c70182e40b09c47b47fdc77cccf"
      }
     },
     "0b13d6d0bdb64e1fbcedce16fce20dfe": {
      "model_module": "@jupyter-widgets/base",
      "model_module_version": "2.0.0",
      "model_name": "LayoutModel",
      "state": {}
     },
     "0b88fe3666ea41949a5c4b0d78c8f79c": {
      "model_module": "@jupyter-widgets/base",
      "model_module_version": "2.0.0",
      "model_name": "LayoutModel",
      "state": {}
     },
     "10900f0ccc60499b96b9874afb697486": {
      "model_module": "@jupyter-widgets/controls",
      "model_module_version": "2.0.0",
      "model_name": "DatePickerModel",
      "state": {
       "description": "Pick end",
       "disabled": false,
       "layout": "IPY_MODEL_d699da3e94e741f0b2e0799e3d1ceb25",
       "max": null,
       "min": null,
       "step": 1,
       "style": "IPY_MODEL_84727b9cc31c4f49ae71d398dbe279df"
      }
     },
     "10eb6c87ae3b4ff687ea5766f72c9bfc": {
      "model_module": "@jupyter-widgets/base",
      "model_module_version": "2.0.0",
      "model_name": "LayoutModel",
      "state": {}
     },
     "11a236b1743e44dbaee61dac707c9ee9": {
      "model_module": "@jupyter-widgets/base",
      "model_module_version": "2.0.0",
      "model_name": "LayoutModel",
      "state": {}
     },
     "1af6003a22e54191b7afec3a791da6c2": {
      "model_module": "@jupyter-widgets/controls",
      "model_module_version": "2.0.0",
      "model_name": "DatePickerModel",
      "state": {
       "description": "Pick end",
       "disabled": false,
       "layout": "IPY_MODEL_4267067257f64b9f8dad836c82609b64",
       "max": null,
       "min": null,
       "step": 1,
       "style": "IPY_MODEL_908a75d99bc849d7a18168935f566a14"
      }
     },
     "1ecb736a1b614c358a29191f8d4a7758": {
      "model_module": "@jupyter-widgets/base",
      "model_module_version": "2.0.0",
      "model_name": "LayoutModel",
      "state": {}
     },
     "27860986648e41c8be8fe319dd84cd18": {
      "model_module": "@jupyter-widgets/controls",
      "model_module_version": "2.0.0",
      "model_name": "ButtonStyleModel",
      "state": {
       "font_family": null,
       "font_size": null,
       "font_style": null,
       "font_variant": null,
       "font_weight": null,
       "text_color": null,
       "text_decoration": null
      }
     },
     "2aeb775ab56642dabc49a2cbc7432993": {
      "model_module": "@jupyter-widgets/base",
      "model_module_version": "2.0.0",
      "model_name": "LayoutModel",
      "state": {}
     },
     "2af2a1f29b034960a15ec6098d5ca6e9": {
      "model_module": "@jupyter-widgets/output",
      "model_module_version": "1.0.0",
      "model_name": "OutputModel",
      "state": {
       "layout": "IPY_MODEL_c0439b69d1ad46dfbada406ff609df1f"
      }
     },
     "2af6ed4f957a4cd083c21bf5ee17d0b2": {
      "model_module": "@jupyter-widgets/base",
      "model_module_version": "2.0.0",
      "model_name": "LayoutModel",
      "state": {}
     },
     "2c22913a95d84c00b24dbd291c6bda6a": {
      "model_module": "@jupyter-widgets/controls",
      "model_module_version": "2.0.0",
      "model_name": "DescriptionStyleModel",
      "state": {
       "description_width": ""
      }
     },
     "2c3c07116dcc400cb48bc20ed9f61f84": {
      "model_module": "@jupyter-widgets/output",
      "model_module_version": "1.0.0",
      "model_name": "OutputModel",
      "state": {
       "layout": "IPY_MODEL_810f413d1ff1482b9d6d58e32b9b0ef4"
      }
     },
     "2cc0f31ca7744f4e8a59b22f1a6f41c3": {
      "model_module": "@jupyter-widgets/controls",
      "model_module_version": "2.0.0",
      "model_name": "DropdownModel",
      "state": {
       "_options_labels": [
        "1 Hour",
        "24 Hour",
        "72 Hour"
       ],
       "description": "Duration:",
       "index": 0,
       "layout": "IPY_MODEL_48ab0708f7664667a5878b6a5c2f1df2",
       "style": "IPY_MODEL_97533492afe846c0bfe8559f04fcbf6b"
      }
     },
     "2f58dce78b64474981beaa7d4231b1b9": {
      "model_module": "@jupyter-widgets/controls",
      "model_module_version": "2.0.0",
      "model_name": "DescriptionStyleModel",
      "state": {
       "description_width": ""
      }
     },
     "313dbe8aee0845e3b8bbf96af659322a": {
      "model_module": "@jupyter-widgets/base",
      "model_module_version": "2.0.0",
      "model_name": "LayoutModel",
      "state": {}
     },
     "31befa1996a34969864f77e178218e19": {
      "model_module": "@jupyter-widgets/controls",
      "model_module_version": "2.0.0",
      "model_name": "DatePickerModel",
      "state": {
       "description": "Pick end",
       "disabled": false,
       "layout": "IPY_MODEL_2aeb775ab56642dabc49a2cbc7432993",
       "max": null,
       "min": null,
       "step": 1,
       "style": "IPY_MODEL_9433d61309944d8c9db91a5933880d16"
      }
     },
     "3290d3dfbd73435fbfbced20a5630a04": {
      "model_module": "@jupyter-widgets/base",
      "model_module_version": "2.0.0",
      "model_name": "LayoutModel",
      "state": {
       "flex": "3 1 0%",
       "width": "auto"
      }
     },
     "35faaeada2b944acb99901a2ee577037": {
      "model_module": "@jupyter-widgets/controls",
      "model_module_version": "2.0.0",
      "model_name": "ButtonModel",
      "state": {
       "button_style": "success",
       "description": "Start download",
       "icon": "check",
       "layout": "IPY_MODEL_b530a4d4336f4224bf9387004696a814",
       "style": "IPY_MODEL_7e0a3fe20b3b49f78b7db1b3acd3e801",
       "tooltip": "Click me"
      }
     },
     "3670cee139e04fb7aef0547cc231e084": {
      "model_module": "@jupyter-widgets/controls",
      "model_module_version": "2.0.0",
      "model_name": "ButtonStyleModel",
      "state": {
       "font_family": null,
       "font_size": null,
       "font_style": null,
       "font_variant": null,
       "font_weight": null,
       "text_color": null,
       "text_decoration": null
      }
     },
     "36b7767f0c4f4e389f7c4f4a5e8dfc0c": {
      "model_module": "@jupyter-widgets/controls",
      "model_module_version": "2.0.0",
      "model_name": "DescriptionStyleModel",
      "state": {
       "description_width": ""
      }
     },
     "37abd3c56b0345088591f17f604098bb": {
      "model_module": "@jupyter-widgets/controls",
      "model_module_version": "2.0.0",
      "model_name": "DescriptionStyleModel",
      "state": {
       "description_width": ""
      }
     },
     "3a0c8d543070489896fcd480684a8918": {
      "model_module": "@jupyter-widgets/controls",
      "model_module_version": "2.0.0",
      "model_name": "DescriptionStyleModel",
      "state": {
       "description_width": ""
      }
     },
     "3c48ea41adec46fcbf5bd3b16bf23e0a": {
      "model_module": "@jupyter-widgets/controls",
      "model_module_version": "2.0.0",
      "model_name": "DropdownModel",
      "state": {
       "_options_labels": [
        "1 Hour",
        "24 Hour",
        "72 Hour"
       ],
       "description": "Duration:",
       "index": 0,
       "layout": "IPY_MODEL_ded2e1c7742342f89a6df73fa4b3f6e8",
       "style": "IPY_MODEL_3a0c8d543070489896fcd480684a8918"
      }
     },
     "3c62bc60a1b84c519dc82f82ae02aa37": {
      "model_module": "@jupyter-widgets/base",
      "model_module_version": "2.0.0",
      "model_name": "LayoutModel",
      "state": {
       "flex": "3 1 0%",
       "width": "auto"
      }
     },
     "3d16871c143c4b89968d7ecab01abb14": {
      "model_module": "@jupyter-widgets/base",
      "model_module_version": "2.0.0",
      "model_name": "LayoutModel",
      "state": {}
     },
     "4267067257f64b9f8dad836c82609b64": {
      "model_module": "@jupyter-widgets/base",
      "model_module_version": "2.0.0",
      "model_name": "LayoutModel",
      "state": {}
     },
     "42e7ee4d74ba40cfa46f0285769b3fb4": {
      "model_module": "@jupyter-widgets/controls",
      "model_module_version": "2.0.0",
      "model_name": "DropdownModel",
      "state": {
       "_options_labels": [
        "MultiSensor",
        "GaugeCorr"
       ],
       "description": "method:",
       "index": 0,
       "layout": "IPY_MODEL_11a236b1743e44dbaee61dac707c9ee9",
       "style": "IPY_MODEL_b1a3e3d3ff714d2690baa70bfce09a94"
      }
     },
     "458b383384cc400792f0f8191c47ead9": {
      "model_module": "@jupyter-widgets/controls",
      "model_module_version": "2.0.0",
      "model_name": "DescriptionStyleModel",
      "state": {
       "description_width": ""
      }
     },
     "4651d12c5cf140b086f3533c093b08d3": {
      "model_module": "@jupyter-widgets/output",
      "model_module_version": "1.0.0",
      "model_name": "OutputModel",
      "state": {
       "layout": "IPY_MODEL_4b2763f9f0044fa6a72a9a68aa774766"
      }
     },
     "48ab0708f7664667a5878b6a5c2f1df2": {
      "model_module": "@jupyter-widgets/base",
      "model_module_version": "2.0.0",
      "model_name": "LayoutModel",
      "state": {}
     },
     "4a8620d12b4c4f6481a2a8fc6f6d3a46": {
      "model_module": "@jupyter-widgets/base",
      "model_module_version": "2.0.0",
      "model_name": "LayoutModel",
      "state": {
       "grid_template_columns": "repeat(2, 400px)"
      }
     },
     "4aefe1f0c06f4ac68ff9a8f7c17eb2da": {
      "model_module": "@jupyter-widgets/controls",
      "model_module_version": "2.0.0",
      "model_name": "DropdownModel",
      "state": {
       "_options_labels": [
        "1 Hour",
        "24 Hour",
        "72 Hour"
       ],
       "description": "Duration:",
       "index": 0,
       "layout": "IPY_MODEL_1ecb736a1b614c358a29191f8d4a7758",
       "style": "IPY_MODEL_70c9898002004816bc66143c82d831d6"
      }
     },
     "4b2763f9f0044fa6a72a9a68aa774766": {
      "model_module": "@jupyter-widgets/base",
      "model_module_version": "2.0.0",
      "model_name": "LayoutModel",
      "state": {}
     },
     "521ebee2d3f1432b902b286a3cec28b3": {
      "model_module": "@jupyter-widgets/controls",
      "model_module_version": "2.0.0",
      "model_name": "ButtonStyleModel",
      "state": {
       "font_family": null,
       "font_size": null,
       "font_style": null,
       "font_variant": null,
       "font_weight": null,
       "text_color": null,
       "text_decoration": null
      }
     },
     "54284a41c5a1497190b9f568a8f1488a": {
      "model_module": "@jupyter-widgets/base",
      "model_module_version": "2.0.0",
      "model_name": "LayoutModel",
      "state": {
       "flex": "3 1 0%",
       "width": "auto"
      }
     },
     "55b708094c0a40feb989de2cf9a5a219": {
      "model_module": "@jupyter-widgets/controls",
      "model_module_version": "2.0.0",
      "model_name": "DropdownModel",
      "state": {
       "_options_labels": [
        "MultiSensor",
        "GaugeCorr"
       ],
       "description": "method:",
       "index": 0,
       "layout": "IPY_MODEL_3d16871c143c4b89968d7ecab01abb14",
       "style": "IPY_MODEL_37abd3c56b0345088591f17f604098bb"
      }
     },
     "5741da6c3c5d456f96debdb44447f8a8": {
      "model_module": "@jupyter-widgets/controls",
      "model_module_version": "2.0.0",
      "model_name": "DropdownModel",
      "state": {
       "_options_labels": [
        "MultiSensor",
        "GaugeCorr"
       ],
       "description": "method:",
       "index": 0,
       "layout": "IPY_MODEL_679e7e34f7bf48c89e02492cdbbba620",
       "style": "IPY_MODEL_fb114c356f86413e9f1d4c47a8f490c4"
      }
     },
     "59956dc2fdea43a08f9488c79d696caa": {
      "model_module": "@jupyter-widgets/base",
      "model_module_version": "2.0.0",
      "model_name": "LayoutModel",
      "state": {
       "grid_template_columns": "repeat(2, 400px)"
      }
     },
     "5cf0548b2bde4a45bd8011622a7ac39d": {
      "model_module": "@jupyter-widgets/base",
      "model_module_version": "2.0.0",
      "model_name": "LayoutModel",
      "state": {}
     },
     "5fbdc51ca19243e38f45a172530255b1": {
      "model_module": "@jupyter-widgets/base",
      "model_module_version": "2.0.0",
      "model_name": "LayoutModel",
      "state": {
       "grid_template_columns": "repeat(2, 400px)"
      }
     },
     "61c9d2fa494b4bb29a4f31f9a250e5d2": {
      "model_module": "@jupyter-widgets/base",
      "model_module_version": "2.0.0",
      "model_name": "LayoutModel",
      "state": {}
     },
     "679e7e34f7bf48c89e02492cdbbba620": {
      "model_module": "@jupyter-widgets/base",
      "model_module_version": "2.0.0",
      "model_name": "LayoutModel",
      "state": {}
     },
     "67bae013e8064595a5081567e560d2e9": {
      "model_module": "@jupyter-widgets/base",
      "model_module_version": "2.0.0",
      "model_name": "LayoutModel",
      "state": {}
     },
     "6817ceebcfea499fb9bb515be6f503df": {
      "model_module": "@jupyter-widgets/controls",
      "model_module_version": "2.0.0",
      "model_name": "GridBoxModel",
      "state": {
       "children": [
        "IPY_MODEL_da5db7f57b5b4da1abd1bcab86b740a9",
        "IPY_MODEL_31befa1996a34969864f77e178218e19",
        "IPY_MODEL_5741da6c3c5d456f96debdb44447f8a8",
        "IPY_MODEL_84c662be44a7471fb4af1a4f864f1f8b",
        "IPY_MODEL_8fe181e9e3114060a9267afe637e7f37"
       ],
       "layout": "IPY_MODEL_4a8620d12b4c4f6481a2a8fc6f6d3a46"
      }
     },
     "6c611c70182e40b09c47b47fdc77cccf": {
      "model_module": "@jupyter-widgets/controls",
      "model_module_version": "2.0.0",
      "model_name": "DescriptionStyleModel",
      "state": {
       "description_width": ""
      }
     },
     "70b39c37b1d44dd995fe8af9c3cbeadf": {
      "model_module": "@jupyter-widgets/controls",
      "model_module_version": "2.0.0",
      "model_name": "GridBoxModel",
      "state": {
       "children": [
        "IPY_MODEL_00ccd6dda46c4d1896a9c3469492c5dc",
        "IPY_MODEL_1af6003a22e54191b7afec3a791da6c2",
        "IPY_MODEL_76986ba4b7c146f29ebf433165d3c4e0",
        "IPY_MODEL_4aefe1f0c06f4ac68ff9a8f7c17eb2da",
        "IPY_MODEL_fc7d52705f5443db8af89cb6822cb1ee"
       ],
       "layout": "IPY_MODEL_59956dc2fdea43a08f9488c79d696caa"
      }
     },
     "70c9898002004816bc66143c82d831d6": {
      "model_module": "@jupyter-widgets/controls",
      "model_module_version": "2.0.0",
      "model_name": "DescriptionStyleModel",
      "state": {
       "description_width": ""
      }
     },
     "73bbe0e156124486a2624c0f14c0e701": {
      "model_module": "@jupyter-widgets/controls",
      "model_module_version": "2.0.0",
      "model_name": "DatePickerModel",
      "state": {
       "description": "Pick end",
       "disabled": false,
       "layout": "IPY_MODEL_0b13d6d0bdb64e1fbcedce16fce20dfe",
       "max": null,
       "min": null,
       "step": 1,
       "style": "IPY_MODEL_f3ce40458611446c9748e2052cf07831"
      }
     },
     "73de19d327ff4facaee2414c646f6ef4": {
      "model_module": "@jupyter-widgets/controls",
      "model_module_version": "2.0.0",
      "model_name": "ButtonStyleModel",
      "state": {
       "font_family": null,
       "font_size": null,
       "font_style": null,
       "font_variant": null,
       "font_weight": null,
       "text_color": null,
       "text_decoration": null
      }
     },
     "73ee72e9f32545958b4bd2b41e24f880": {
      "model_module": "@jupyter-widgets/controls",
      "model_module_version": "2.0.0",
      "model_name": "DatePickerModel",
      "state": {
       "description": "Pick start",
       "disabled": false,
       "layout": "IPY_MODEL_313dbe8aee0845e3b8bbf96af659322a",
       "max": null,
       "min": null,
       "step": 1,
       "style": "IPY_MODEL_0409835aacf244dcb4b052b1d76b3999"
      }
     },
     "75862c313e9f4519a56afb5512f82cd6": {
      "model_module": "@jupyter-widgets/base",
      "model_module_version": "2.0.0",
      "model_name": "LayoutModel",
      "state": {
       "flex": "3 1 0%",
       "width": "auto"
      }
     },
     "76986ba4b7c146f29ebf433165d3c4e0": {
      "model_module": "@jupyter-widgets/controls",
      "model_module_version": "2.0.0",
      "model_name": "DropdownModel",
      "state": {
       "_options_labels": [
        "MultiSensor",
        "GaugeCorr"
       ],
       "description": "method:",
       "index": 0,
       "layout": "IPY_MODEL_5cf0548b2bde4a45bd8011622a7ac39d",
       "style": "IPY_MODEL_f013a6ead16c408f8d8e370ccba9fb4d"
      }
     },
     "7dfcb13338cf4e32843f31aae14a8c71": {
      "model_module": "@jupyter-widgets/controls",
      "model_module_version": "2.0.0",
      "model_name": "ButtonModel",
      "state": {
       "button_style": "success",
       "description": "Start download",
       "icon": "check",
       "layout": "IPY_MODEL_75862c313e9f4519a56afb5512f82cd6",
       "style": "IPY_MODEL_80b8dfaba03948c4b337908e5af1b013",
       "tooltip": "Click me"
      }
     },
     "7e0a3fe20b3b49f78b7db1b3acd3e801": {
      "model_module": "@jupyter-widgets/controls",
      "model_module_version": "2.0.0",
      "model_name": "ButtonStyleModel",
      "state": {
       "font_family": null,
       "font_size": null,
       "font_style": null,
       "font_variant": null,
       "font_weight": null,
       "text_color": null,
       "text_decoration": null
      }
     },
     "80b8dfaba03948c4b337908e5af1b013": {
      "model_module": "@jupyter-widgets/controls",
      "model_module_version": "2.0.0",
      "model_name": "ButtonStyleModel",
      "state": {
       "font_family": null,
       "font_size": null,
       "font_style": null,
       "font_variant": null,
       "font_weight": null,
       "text_color": null,
       "text_decoration": null
      }
     },
     "810f413d1ff1482b9d6d58e32b9b0ef4": {
      "model_module": "@jupyter-widgets/base",
      "model_module_version": "2.0.0",
      "model_name": "LayoutModel",
      "state": {}
     },
     "82002d94bd6f43488db94516874c55a3": {
      "model_module": "@jupyter-widgets/controls",
      "model_module_version": "2.0.0",
      "model_name": "GridBoxModel",
      "state": {
       "children": [
        "IPY_MODEL_0962ee09b70844c588f95e9baa07276b",
        "IPY_MODEL_10900f0ccc60499b96b9874afb697486",
        "IPY_MODEL_b5d800a6fed144068184c9cfd71a8b6b",
        "IPY_MODEL_2cc0f31ca7744f4e8a59b22f1a6f41c3",
        "IPY_MODEL_fc7944e80b664774a8494ed011f64092"
       ],
       "layout": "IPY_MODEL_f90020f5c2e6427c99f3c2861080f267"
      }
     },
     "83bfa8cfa06d439ebcb65b0760d21197": {
      "model_module": "@jupyter-widgets/base",
      "model_module_version": "2.0.0",
      "model_name": "LayoutModel",
      "state": {}
     },
     "84727b9cc31c4f49ae71d398dbe279df": {
      "model_module": "@jupyter-widgets/controls",
      "model_module_version": "2.0.0",
      "model_name": "DescriptionStyleModel",
      "state": {
       "description_width": ""
      }
     },
     "84c662be44a7471fb4af1a4f864f1f8b": {
      "model_module": "@jupyter-widgets/controls",
      "model_module_version": "2.0.0",
      "model_name": "DropdownModel",
      "state": {
       "_options_labels": [
        "1 Hour",
        "24 Hour",
        "72 Hour"
       ],
       "description": "Duration:",
       "index": 0,
       "layout": "IPY_MODEL_67bae013e8064595a5081567e560d2e9",
       "style": "IPY_MODEL_f9f9df1459e94b079241e4fa1b9d394d"
      }
     },
     "8fe181e9e3114060a9267afe637e7f37": {
      "model_module": "@jupyter-widgets/controls",
      "model_module_version": "2.0.0",
      "model_name": "ButtonModel",
      "state": {
       "button_style": "success",
       "description": "Start download",
       "icon": "check",
       "layout": "IPY_MODEL_54284a41c5a1497190b9f568a8f1488a",
       "style": "IPY_MODEL_73de19d327ff4facaee2414c646f6ef4",
       "tooltip": "Click me"
      }
     },
     "908a75d99bc849d7a18168935f566a14": {
      "model_module": "@jupyter-widgets/controls",
      "model_module_version": "2.0.0",
      "model_name": "DescriptionStyleModel",
      "state": {
       "description_width": ""
      }
     },
     "92632c048e3847f58e789bb08b197bc4": {
      "model_module": "@jupyter-widgets/controls",
      "model_module_version": "2.0.0",
      "model_name": "DropdownModel",
      "state": {
       "_options_labels": [
        "1 Hour",
        "24 Hour",
        "72 Hour"
       ],
       "description": "Duration:",
       "index": 0,
       "layout": "IPY_MODEL_cf4107439c394fcdb7365712bf81a4ee",
       "style": "IPY_MODEL_2f58dce78b64474981beaa7d4231b1b9"
      }
     },
     "93e0393be5244697b45c0c3ba891de59": {
      "model_module": "@jupyter-widgets/base",
      "model_module_version": "2.0.0",
      "model_name": "LayoutModel",
      "state": {}
     },
     "9433d61309944d8c9db91a5933880d16": {
      "model_module": "@jupyter-widgets/controls",
      "model_module_version": "2.0.0",
      "model_name": "DescriptionStyleModel",
      "state": {
       "description_width": ""
      }
     },
     "97533492afe846c0bfe8559f04fcbf6b": {
      "model_module": "@jupyter-widgets/controls",
      "model_module_version": "2.0.0",
      "model_name": "DescriptionStyleModel",
      "state": {
       "description_width": ""
      }
     },
     "98fe953e21934ac28765b2a9f7839b01": {
      "model_module": "@jupyter-widgets/controls",
      "model_module_version": "2.0.0",
      "model_name": "DescriptionStyleModel",
      "state": {
       "description_width": ""
      }
     },
     "9ff2a83ab9b54ef791196ee7da8fe27f": {
      "model_module": "@jupyter-widgets/controls",
      "model_module_version": "2.0.0",
      "model_name": "ButtonModel",
      "state": {
       "button_style": "success",
       "description": "Start download",
       "icon": "check",
       "layout": "IPY_MODEL_3c62bc60a1b84c519dc82f82ae02aa37",
       "style": "IPY_MODEL_27860986648e41c8be8fe319dd84cd18",
       "tooltip": "Click me"
      }
     },
     "a2e6b94162374355b83b9bd14bb5f02b": {
      "model_module": "@jupyter-widgets/controls",
      "model_module_version": "2.0.0",
      "model_name": "DropdownModel",
      "state": {
       "_options_labels": [
        "1 Hour",
        "24 Hour",
        "72 Hour"
       ],
       "description": "Duration:",
       "index": 0,
       "layout": "IPY_MODEL_bd1690904f024c8e8b1aad9e697c7269",
       "style": "IPY_MODEL_a4e40cfb726b4199875665c6a15a48b0"
      }
     },
     "a4e40cfb726b4199875665c6a15a48b0": {
      "model_module": "@jupyter-widgets/controls",
      "model_module_version": "2.0.0",
      "model_name": "DescriptionStyleModel",
      "state": {
       "description_width": ""
      }
     },
     "a6aabe4810944dc7b2fb7e4614aae6d3": {
      "model_module": "@jupyter-widgets/base",
      "model_module_version": "2.0.0",
      "model_name": "LayoutModel",
      "state": {}
     },
     "a90464836d2f42cbb9ca71b44eacd875": {
      "model_module": "@jupyter-widgets/controls",
      "model_module_version": "2.0.0",
      "model_name": "DescriptionStyleModel",
      "state": {
       "description_width": ""
      }
     },
     "aa3083f6aacc45ee8bf9636d283a26a9": {
      "model_module": "@jupyter-widgets/base",
      "model_module_version": "2.0.0",
      "model_name": "LayoutModel",
      "state": {}
     },
     "ae48a34a494440b0aefde068a07458bf": {
      "model_module": "@jupyter-widgets/controls",
      "model_module_version": "2.0.0",
      "model_name": "DescriptionStyleModel",
      "state": {
       "description_width": ""
      }
     },
     "b1a3e3d3ff714d2690baa70bfce09a94": {
      "model_module": "@jupyter-widgets/controls",
      "model_module_version": "2.0.0",
      "model_name": "DescriptionStyleModel",
      "state": {
       "description_width": ""
      }
     },
     "b23aea0d8f2c4ec2bcfa5f96097f0a5e": {
      "model_module": "@jupyter-widgets/controls",
      "model_module_version": "2.0.0",
      "model_name": "GridBoxModel",
      "state": {
       "children": [
        "IPY_MODEL_73ee72e9f32545958b4bd2b41e24f880",
        "IPY_MODEL_fe139ac2667d448199ead1c852ce02e5",
        "IPY_MODEL_42e7ee4d74ba40cfa46f0285769b3fb4",
        "IPY_MODEL_3c48ea41adec46fcbf5bd3b16bf23e0a",
        "IPY_MODEL_7dfcb13338cf4e32843f31aae14a8c71"
       ],
       "layout": "IPY_MODEL_5fbdc51ca19243e38f45a172530255b1"
      }
     },
     "b26d07116d3d46e29ea6670645a230b2": {
      "model_module": "@jupyter-widgets/base",
      "model_module_version": "2.0.0",
      "model_name": "LayoutModel",
      "state": {}
     },
     "b530a4d4336f4224bf9387004696a814": {
      "model_module": "@jupyter-widgets/base",
      "model_module_version": "2.0.0",
      "model_name": "LayoutModel",
      "state": {
       "flex": "3 1 0%",
       "width": "auto"
      }
     },
     "b5d800a6fed144068184c9cfd71a8b6b": {
      "model_module": "@jupyter-widgets/controls",
      "model_module_version": "2.0.0",
      "model_name": "DropdownModel",
      "state": {
       "_options_labels": [
        "MultiSensor",
        "GaugeCorr"
       ],
       "description": "method:",
       "index": 0,
       "layout": "IPY_MODEL_cf3e16a7ef5c4c06b0dab87071ad8bb2",
       "style": "IPY_MODEL_a90464836d2f42cbb9ca71b44eacd875"
      }
     },
     "bc97e64546194dd0a479bccf0ed1567e": {
      "model_module": "@jupyter-widgets/controls",
      "model_module_version": "2.0.0",
      "model_name": "DescriptionStyleModel",
      "state": {
       "description_width": ""
      }
     },
     "bd1690904f024c8e8b1aad9e697c7269": {
      "model_module": "@jupyter-widgets/base",
      "model_module_version": "2.0.0",
      "model_name": "LayoutModel",
      "state": {}
     },
     "bdf14c4e8f684acf83e307c573626d9d": {
      "model_module": "@jupyter-widgets/controls",
      "model_module_version": "2.0.0",
      "model_name": "GridBoxModel",
      "state": {
       "children": [
        "IPY_MODEL_db817c427d794e31939a0fbdf646a0f0",
        "IPY_MODEL_ecd2640ddfc44a6bbe6f12f8cb50bddf",
        "IPY_MODEL_55b708094c0a40feb989de2cf9a5a219",
        "IPY_MODEL_a2e6b94162374355b83b9bd14bb5f02b",
        "IPY_MODEL_9ff2a83ab9b54ef791196ee7da8fe27f"
       ],
       "layout": "IPY_MODEL_ccc701d8a833417e806f6569ca8964d5"
      }
     },
     "bee6e447b52544358ae115302d0d64c6": {
      "model_module": "@jupyter-widgets/output",
      "model_module_version": "1.0.0",
      "model_name": "OutputModel",
      "state": {
       "layout": "IPY_MODEL_0b88fe3666ea41949a5c4b0d78c8f79c"
      }
     },
     "c0439b69d1ad46dfbada406ff609df1f": {
      "model_module": "@jupyter-widgets/base",
      "model_module_version": "2.0.0",
      "model_name": "LayoutModel",
      "state": {}
     },
     "cbc23649be3f463ba55187481aa72318": {
      "model_module": "@jupyter-widgets/output",
      "model_module_version": "1.0.0",
      "model_name": "OutputModel",
      "state": {
       "layout": "IPY_MODEL_e29d1bf9814d48ed9d27ff2e214c19e1"
      }
     },
     "ccc701d8a833417e806f6569ca8964d5": {
      "model_module": "@jupyter-widgets/base",
      "model_module_version": "2.0.0",
      "model_name": "LayoutModel",
      "state": {
       "grid_template_columns": "repeat(2, 400px)"
      }
     },
     "ce2445f1b6644039ab15797d79bfe2c9": {
      "model_module": "@jupyter-widgets/controls",
      "model_module_version": "2.0.0",
      "model_name": "DropdownModel",
      "state": {
       "_options_labels": [
        "MultiSensor",
        "GaugeCorr"
       ],
       "description": "method:",
       "index": 0,
       "layout": "IPY_MODEL_a6aabe4810944dc7b2fb7e4614aae6d3",
       "style": "IPY_MODEL_eb1724c76b124bb890ec9ad86e095366"
      }
     },
     "cf3e16a7ef5c4c06b0dab87071ad8bb2": {
      "model_module": "@jupyter-widgets/base",
      "model_module_version": "2.0.0",
      "model_name": "LayoutModel",
      "state": {}
     },
     "cf4107439c394fcdb7365712bf81a4ee": {
      "model_module": "@jupyter-widgets/base",
      "model_module_version": "2.0.0",
      "model_name": "LayoutModel",
      "state": {}
     },
     "d699da3e94e741f0b2e0799e3d1ceb25": {
      "model_module": "@jupyter-widgets/base",
      "model_module_version": "2.0.0",
      "model_name": "LayoutModel",
      "state": {}
     },
     "d9d0149c231847e38428cb408b2dd4ce": {
      "model_module": "@jupyter-widgets/controls",
      "model_module_version": "2.0.0",
      "model_name": "GridBoxModel",
      "state": {
       "children": [
        "IPY_MODEL_f68baa3df41c4238bede06d36015d4a8",
        "IPY_MODEL_73bbe0e156124486a2624c0f14c0e701",
        "IPY_MODEL_ce2445f1b6644039ab15797d79bfe2c9",
        "IPY_MODEL_92632c048e3847f58e789bb08b197bc4",
        "IPY_MODEL_35faaeada2b944acb99901a2ee577037"
       ],
       "layout": "IPY_MODEL_01095837c4524b40bfa567b24d979867"
      }
     },
     "da5db7f57b5b4da1abd1bcab86b740a9": {
      "model_module": "@jupyter-widgets/controls",
      "model_module_version": "2.0.0",
      "model_name": "DatePickerModel",
      "state": {
       "description": "Pick start",
       "disabled": false,
       "layout": "IPY_MODEL_2af6ed4f957a4cd083c21bf5ee17d0b2",
       "max": null,
       "min": null,
       "step": 1,
       "style": "IPY_MODEL_2c22913a95d84c00b24dbd291c6bda6a"
      }
     },
     "db817c427d794e31939a0fbdf646a0f0": {
      "model_module": "@jupyter-widgets/controls",
      "model_module_version": "2.0.0",
      "model_name": "DatePickerModel",
      "state": {
       "description": "Pick start",
       "disabled": false,
       "layout": "IPY_MODEL_aa3083f6aacc45ee8bf9636d283a26a9",
       "max": null,
       "min": null,
       "step": 1,
       "style": "IPY_MODEL_ae48a34a494440b0aefde068a07458bf"
      }
     },
     "ded2e1c7742342f89a6df73fa4b3f6e8": {
      "model_module": "@jupyter-widgets/base",
      "model_module_version": "2.0.0",
      "model_name": "LayoutModel",
      "state": {}
     },
     "e29d1bf9814d48ed9d27ff2e214c19e1": {
      "model_module": "@jupyter-widgets/base",
      "model_module_version": "2.0.0",
      "model_name": "LayoutModel",
      "state": {}
     },
     "eb1724c76b124bb890ec9ad86e095366": {
      "model_module": "@jupyter-widgets/controls",
      "model_module_version": "2.0.0",
      "model_name": "DescriptionStyleModel",
      "state": {
       "description_width": ""
      }
     },
     "ecd2640ddfc44a6bbe6f12f8cb50bddf": {
      "model_module": "@jupyter-widgets/controls",
      "model_module_version": "2.0.0",
      "model_name": "DatePickerModel",
      "state": {
       "description": "Pick end",
       "disabled": false,
       "layout": "IPY_MODEL_f3de607e95eb46d1998428d44ba94247",
       "max": null,
       "min": null,
       "step": 1,
       "style": "IPY_MODEL_36b7767f0c4f4e389f7c4f4a5e8dfc0c"
      }
     },
     "f013a6ead16c408f8d8e370ccba9fb4d": {
      "model_module": "@jupyter-widgets/controls",
      "model_module_version": "2.0.0",
      "model_name": "DescriptionStyleModel",
      "state": {
       "description_width": ""
      }
     },
     "f3ce40458611446c9748e2052cf07831": {
      "model_module": "@jupyter-widgets/controls",
      "model_module_version": "2.0.0",
      "model_name": "DescriptionStyleModel",
      "state": {
       "description_width": ""
      }
     },
     "f3de607e95eb46d1998428d44ba94247": {
      "model_module": "@jupyter-widgets/base",
      "model_module_version": "2.0.0",
      "model_name": "LayoutModel",
      "state": {}
     },
     "f68baa3df41c4238bede06d36015d4a8": {
      "model_module": "@jupyter-widgets/controls",
      "model_module_version": "2.0.0",
      "model_name": "DatePickerModel",
      "state": {
       "description": "Pick start",
       "disabled": false,
       "layout": "IPY_MODEL_61c9d2fa494b4bb29a4f31f9a250e5d2",
       "max": null,
       "min": null,
       "step": 1,
       "style": "IPY_MODEL_458b383384cc400792f0f8191c47ead9"
      }
     },
     "f90020f5c2e6427c99f3c2861080f267": {
      "model_module": "@jupyter-widgets/base",
      "model_module_version": "2.0.0",
      "model_name": "LayoutModel",
      "state": {
       "grid_template_columns": "repeat(2, 400px)"
      }
     },
     "f9f9df1459e94b079241e4fa1b9d394d": {
      "model_module": "@jupyter-widgets/controls",
      "model_module_version": "2.0.0",
      "model_name": "DescriptionStyleModel",
      "state": {
       "description_width": ""
      }
     },
     "fb114c356f86413e9f1d4c47a8f490c4": {
      "model_module": "@jupyter-widgets/controls",
      "model_module_version": "2.0.0",
      "model_name": "DescriptionStyleModel",
      "state": {
       "description_width": ""
      }
     },
     "fc7944e80b664774a8494ed011f64092": {
      "model_module": "@jupyter-widgets/controls",
      "model_module_version": "2.0.0",
      "model_name": "ButtonModel",
      "state": {
       "button_style": "success",
       "description": "Start download",
       "icon": "check",
       "layout": "IPY_MODEL_3290d3dfbd73435fbfbced20a5630a04",
       "style": "IPY_MODEL_3670cee139e04fb7aef0547cc231e084",
       "tooltip": "Click me"
      }
     },
     "fc7d52705f5443db8af89cb6822cb1ee": {
      "model_module": "@jupyter-widgets/controls",
      "model_module_version": "2.0.0",
      "model_name": "ButtonModel",
      "state": {
       "button_style": "success",
       "description": "Start download",
       "icon": "check",
       "layout": "IPY_MODEL_06d2fa704fd3424e81221bc8edea6757",
       "style": "IPY_MODEL_521ebee2d3f1432b902b286a3cec28b3",
       "tooltip": "Click me"
      }
     },
     "fe139ac2667d448199ead1c852ce02e5": {
      "model_module": "@jupyter-widgets/controls",
      "model_module_version": "2.0.0",
      "model_name": "DatePickerModel",
      "state": {
       "description": "Pick end",
       "disabled": false,
       "layout": "IPY_MODEL_b26d07116d3d46e29ea6670645a230b2",
       "max": null,
       "min": null,
       "step": 1,
       "style": "IPY_MODEL_98fe953e21934ac28765b2a9f7839b01"
      }
     }
    },
    "version_major": 2,
    "version_minor": 0
   }
  }
 },
 "nbformat": 4,
 "nbformat_minor": 4
}
